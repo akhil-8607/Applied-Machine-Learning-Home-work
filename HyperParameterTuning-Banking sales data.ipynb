{
 "cells": [
  {
   "cell_type": "markdown",
   "metadata": {
    "colab_type": "text",
    "id": "R--G1S4LFVR9"
   },
   "source": [
    "CSCI-P556: Applied Machine Learning\n",
    "Fall 2018\n",
    "Assignment #2\n",
    "---\n",
    "\n"
   ]
  },
  {
   "cell_type": "markdown",
   "metadata": {
    "colab_type": "text",
    "id": "Ooye3d-VGooZ"
   },
   "source": [
    "# Problem 1 (50 points)\n",
    "\n",
    "In this problem you will be working with Bank Marketing Dataset. We encourage your to look at the description and make yourself comfortable with it: https://archive.ics.uci.edu/ml/datasets/bank+marketing\n",
    "\n",
    "Two pairs of training and validation sets have been drawn from this dataset for you to work with, namely: \n",
    " -  `train_1.csv` and `valid_1.csv`\n",
    " -  `train_2.csv`and `valid_2.csv`\n",
    " \n",
    "Finally, we have also provided a `test.csv` which is common for both settings.\n",
    "\n",
    "### Task 0: (3 points)\n",
    "\n",
    "What is the difference between the two sets of train/validation sets? Write your answer here:\n",
    "\n",
    " Ans:  It is observed that first pair of train/validation set is smaller in size compared to the second pair of the train/validation method.\n",
    "It is also observed that the first pair of training set has more data points with the y label 'yes'. the data is more skewed towards the customers who have subscribed for the term deposits\n"
   ]
  },
  {
   "cell_type": "code",
   "execution_count": 66,
   "metadata": {},
   "outputs": [],
   "source": [
    "import pandas as pd \n",
    "import numpy as np"
   ]
  },
  {
   "cell_type": "code",
   "execution_count": 67,
   "metadata": {},
   "outputs": [],
   "source": [
    "train_1 = pd.read_csv('train_1.csv')\n",
    "val_1 = pd.read_csv('valid_1.csv')\n",
    "train_2 = pd.read_csv('train_2.csv')\n",
    "val_2 = pd.read_csv('valid_2.csv')\n",
    "test = pd.read_csv('test.csv')"
   ]
  },
  {
   "cell_type": "code",
   "execution_count": 68,
   "metadata": {},
   "outputs": [
    {
     "name": "stdout",
     "output_type": "stream",
     "text": [
      "(6769, 17)\n",
      "(28934, 17)\n",
      "(1693, 17)\n",
      "(7234, 17)\n",
      "(9043, 17)\n"
     ]
    }
   ],
   "source": [
    "print(train_1.shape)\n",
    "print(train_2.shape)\n",
    "print(val_1.shape)\n",
    "print(val_2.shape)\n",
    "print(test.shape)"
   ]
  },
  {
   "cell_type": "markdown",
   "metadata": {
    "colab_type": "text",
    "id": "MFKZT4mhJlSK"
   },
   "source": [
    "### Task 1 (Data Preprocessing) (12 points)\n",
    "\n",
    "Before you can train a machine learning model using this dataset, you will have to run a number of preprocessing steps to transform the data into a form which will be acceptable to the model. In this task, you are supposed to carry out the follow steps:\n",
    "\n",
    "1.  Find all features that have continuous numeric values and normalize them in the same way as you did in Assignment 1. List those features here.\n",
    "2. Find all categorical features and process them as was discussed in class. List those features and explain what you did.\n",
    "3. Are there any features which have missing values? (Hint: Missing values aren't always nicely represented and can be misleading sometimes). Find those features and explain how you will handle them.\n",
    "\n"
   ]
  },
  {
   "cell_type": "markdown",
   "metadata": {
    "colab_type": "text",
    "id": "uLoZ67_hPo9I"
   },
   "source": [
    "Write your text-based answers here.\n",
    "\n",
    "\n",
    "1.   Features that have continous numeric values are age, balance, day, duration ,previous\n",
    "\n",
    "2.   job ,marital ,education ,default ,housing ,loan ,contact ,month ,poutcome are the categorcial features present in the data. I have used one hot encoding and converted the categorical features into numerical values with the initial feature label's as the new features after one hot encoding \n",
    "\n",
    "3.   Pdays is the only feature which has missing values. Missing values in this features are represented by -1 . Since most data points in the data set has missing values for pdays , I have removed the feature of pdays fron the data to improve the performance of the model. \n",
    "\n"
   ]
  },
  {
   "cell_type": "code",
   "execution_count": 69,
   "metadata": {},
   "outputs": [
    {
     "name": "stdout",
     "output_type": "stream",
     "text": [
      "job:\n",
      " ['housemaid' 'blue-collar' 'management' 'technician' 'services'\n",
      " 'self-employed' 'retired' 'unemployed' 'entrepreneur' 'admin.' 'student'\n",
      " 'unknown']\n",
      "marital:\n",
      " ['divorced' 'married' 'single']\n",
      "education:\n",
      " ['secondary' 'tertiary' 'primary' 'unknown']\n",
      "default:\n",
      " ['no' 'yes']\n",
      "housing:\n",
      " ['no' 'yes']\n",
      "loan:\n",
      " ['no' 'yes']\n",
      "contact:\n",
      " ['cellular' 'unknown' 'telephone']\n",
      "month:\n",
      " ['jul' 'may' 'aug' 'feb' 'oct' 'mar' 'jun' 'nov' 'apr' 'jan' 'sep' 'dec']\n",
      "poutcome:\n",
      " ['unknown' 'failure' 'success' 'other']\n"
     ]
    }
   ],
   "source": [
    "print('job:\\n',train_1['job'].unique())\n",
    "print('marital:\\n',train_1['marital'].unique())\n",
    "print('education:\\n',train_1['education'].unique())\n",
    "print('default:\\n',train_1['default'].unique())\n",
    "print('housing:\\n',train_1['housing'].unique())\n",
    "print('loan:\\n',train_1['loan'].unique())\n",
    "print('contact:\\n',train_1['contact'].unique())\n",
    "print('month:\\n',train_1['month'].unique())\n",
    "#print('pdays:\\n',train_1['pdays'].unique())\n",
    "print('poutcome:\\n',train_1['poutcome'].unique())"
   ]
  },
  {
   "cell_type": "code",
   "execution_count": 70,
   "metadata": {},
   "outputs": [
    {
     "name": "stdout",
     "output_type": "stream",
     "text": [
      "job:\n",
      " ['technician' 'admin.' 'blue-collar' 'unemployed' 'services' 'management'\n",
      " 'housemaid' 'self-employed' 'retired' 'entrepreneur' 'student' 'unknown']\n",
      "marital:\n",
      " ['married' 'divorced' 'single']\n",
      "education:\n",
      " ['tertiary' 'secondary' 'primary' 'unknown']\n",
      "default:\n",
      " ['no' 'yes']\n",
      "housing:\n",
      " ['no' 'yes']\n",
      "loan:\n",
      " ['no' 'yes']\n",
      "contact:\n",
      " ['cellular' 'telephone' 'unknown']\n",
      "month:\n",
      " ['feb' 'may' 'aug' 'apr' 'oct' 'jun' 'jul' 'nov' 'jan' 'mar' 'sep' 'dec']\n",
      "poutcome:\n",
      " ['unknown' 'failure' 'other' 'success']\n"
     ]
    }
   ],
   "source": [
    "print('job:\\n',train_2['job'].unique())\n",
    "print('marital:\\n',train_2['marital'].unique())\n",
    "print('education:\\n',train_2['education'].unique())\n",
    "print('default:\\n',train_2['default'].unique())\n",
    "print('housing:\\n',train_2['housing'].unique())\n",
    "print('loan:\\n',train_2['loan'].unique())\n",
    "print('contact:\\n',train_2['contact'].unique())\n",
    "print('month:\\n',train_2['month'].unique())\n",
    "#print('pdays:\\n',train_1['pdays'].unique())\n",
    "print('poutcome:\\n',train_2['poutcome'].unique())"
   ]
  },
  {
   "cell_type": "code",
   "execution_count": 71,
   "metadata": {},
   "outputs": [],
   "source": [
    "sample = ['job','marital','education','contact','month','poutcome']\n",
    "train_1= pd.get_dummies(train_1,columns=sample)\n",
    "train_1['y']=train_1['y'].map({'yes':1,'no':0})\n",
    "train_1['default']=train_1['default'].map({'yes':1,'no':0})\n",
    "train_1['housing']=train_1['housing'].map({'yes':1,'no':0})\n",
    "train_1['loan']=train_1['loan'].map({'yes':1,'no':0})"
   ]
  },
  {
   "cell_type": "code",
   "execution_count": 72,
   "metadata": {},
   "outputs": [],
   "source": [
    "sample = ['job','marital','education','contact','month','poutcome']\n",
    "train_2= pd.get_dummies(train_2,columns=sample)\n",
    "train_2['y']=train_2['y'].map({'yes':1,'no':0})\n",
    "train_2['default']=train_2['default'].map({'yes':1,'no':0})\n",
    "train_2['housing']=train_2['housing'].map({'yes':1,'no':0})\n",
    "train_2['loan']=train_2['loan'].map({'yes':1,'no':0})"
   ]
  },
  {
   "cell_type": "code",
   "execution_count": 73,
   "metadata": {},
   "outputs": [],
   "source": [
    "sample= ['job','marital','education','contact','month','poutcome']\n",
    "val_1= pd.get_dummies(val_1,columns=sample)\n",
    "val_1['y']=val_1['y'].map({'yes':1,'no':0})\n",
    "val_1['default']=val_1['default'].map({'yes':1,'no':0})\n",
    "val_1['housing']=val_1['housing'].map({'yes':1,'no':0})\n",
    "val_1['loan']=val_1['loan'].map({'yes':1,'no':0})"
   ]
  },
  {
   "cell_type": "code",
   "execution_count": 74,
   "metadata": {},
   "outputs": [],
   "source": [
    "sample = ['job','marital','education','contact','month','poutcome']\n",
    "val_2= pd.get_dummies(val_2,columns=sample)\n",
    "val_2['y']=val_2['y'].map({'yes':1,'no':0})\n",
    "val_2['default']=val_2['default'].map({'yes':1,'no':0})\n",
    "val_2['housing']=val_2['housing'].map({'yes':1,'no':0})\n",
    "val_2['loan']=val_2['loan'].map({'yes':1,'no':0})"
   ]
  },
  {
   "cell_type": "code",
   "execution_count": 75,
   "metadata": {},
   "outputs": [],
   "source": [
    "sample = ['job','marital','education','contact','month','poutcome']\n",
    "test= pd.get_dummies(test,columns=sample)\n",
    "test['y']=test['y'].map({'yes':1,'no':0})\n",
    "test['default']=test['default'].map({'yes':1,'no':0})\n",
    "test['housing']=test['housing'].map({'yes':1,'no':0})\n",
    "test['loan']=test['loan'].map({'yes':1,'no':0})"
   ]
  },
  {
   "cell_type": "code",
   "execution_count": 76,
   "metadata": {},
   "outputs": [],
   "source": [
    "train_1=train_1.drop(['pdays'], axis=1)\n",
    "train_2=train_2.drop(['pdays'],axis=1)\n",
    "val_1=val_1.drop(['pdays'],axis=1)\n",
    "val_2=val_2.drop(['pdays'],axis=1)\n",
    "test=test.drop(['pdays'],axis=1)"
   ]
  },
  {
   "cell_type": "code",
   "execution_count": 77,
   "metadata": {},
   "outputs": [],
   "source": [
    "#function for normalization\n",
    "\n",
    "def Normal(X):\n",
    "    #print(np.mean(X), np.amax(X),np.amin(X))\n",
    "    X=(X-np.mean(X))/(np.amax(X)-np.amin(X))\n",
    "    return X"
   ]
  },
  {
   "cell_type": "code",
   "execution_count": 78,
   "metadata": {
    "colab": {},
    "colab_type": "code",
    "id": "aQGJ10L-KhZh"
   },
   "outputs": [],
   "source": [
    "y_train_1=train_1['y']\n",
    "train_1 = train_1.drop(['y'],axis=1)\n",
    "y_val_1=val_1['y']\n",
    "val_1 = val_1.drop(['y'],axis=1)\n",
    "y_test=test['y']\n",
    "test = test.drop(['y'],axis=1)\n",
    "y_train_2=train_2['y']\n",
    "train_2 = train_2.drop(['y'],axis=1)\n",
    "y_val_2=val_2['y']\n",
    "val_2 = val_2.drop(['y'],axis=1)"
   ]
  },
  {
   "cell_type": "code",
   "execution_count": 79,
   "metadata": {},
   "outputs": [],
   "source": [
    "#Normalization\n",
    "\n",
    "sample =['age','balance','day','duration','campaign','previous']\n",
    "for i in range(len(sample)):\n",
    "    train_1[sample[i]] = Normal(train_1[sample[i]])\n",
    "for i in range(len(sample)):\n",
    "    train_2[sample[i]] = Normal(train_2[sample[i]])\n",
    "for i in range(len(sample)):\n",
    "    val_1[sample[i]] = Normal(val_1[sample[i]])\n",
    "for i in range(len(sample)):\n",
    "    val_2[sample[i]] = Normal(val_2[sample[i]])\n",
    "for i in range(len(sample)):\n",
    "    test[sample[i]] = Normal(test[sample[i]])"
   ]
  },
  {
   "cell_type": "markdown",
   "metadata": {
    "colab_type": "text",
    "id": "5EaChdKLJjio"
   },
   "source": [
    "### Task 2 (Model $\\mathcal{A}$) (10 points)\n",
    "\n",
    "Train a logistic regression model with $L_2$ regularization on `train_1.csv` after applying the necessary preprocessing steps of Task 1. Use the validation set `valid_1.csv` to choose the best regularization coefficient $\\lambda$. Plot a curve with regularization coefficient in the X axis and the validation accuracy on the Y axis."
   ]
  },
  {
   "cell_type": "code",
   "execution_count": 80,
   "metadata": {},
   "outputs": [],
   "source": [
    "from sklearn.linear_model import LogisticRegression\n",
    "from sklearn.metrics import accuracy_score\n",
    "import matplotlib.pyplot as plt "
   ]
  },
  {
   "cell_type": "code",
   "execution_count": 81,
   "metadata": {},
   "outputs": [
    {
     "name": "stdout",
     "output_type": "stream",
     "text": [
      "Training accuracy: 0.8324715615305067\n",
      "validation accuracy: 0.8204370939161252\n",
      "test accuracy 0.757160234435475\n",
      "\n",
      "Training accuracy: 0.8323238292214508\n",
      "validation accuracy: 0.819846426461902\n",
      "test accuracy 0.7572708172066792\n",
      "\n",
      "Training accuracy: 0.8326192938395627\n",
      "validation accuracy: 0.819846426461902\n",
      "test accuracy 0.7574919827490877\n",
      "\n",
      "Training accuracy: 0.8320283646033387\n",
      "validation accuracy: 0.819846426461902\n",
      "test accuracy 0.7582660621475175\n",
      "\n",
      "Training accuracy: 0.8315851676761707\n",
      "validation accuracy: 0.8186650915534555\n",
      "test accuracy 0.7591507243171514\n",
      "\n",
      "Training accuracy: 0.8311419707490028\n",
      "validation accuracy: 0.819846426461902\n",
      "test accuracy 0.7604777175716023\n",
      "\n",
      "Training accuracy: 0.8312897030580588\n",
      "validation accuracy: 0.819846426461902\n",
      "test accuracy 0.762578790224483\n",
      "\n",
      "Training accuracy: 0.8309942384399468\n",
      "validation accuracy: 0.815711754282339\n",
      "test accuracy 0.7673338493862656\n",
      "\n",
      "Training accuracy: 0.8075048013000443\n",
      "validation accuracy: 0.7974010632014176\n",
      "test accuracy 0.781377861329205\n",
      "\n",
      "Training accuracy: 0.7296498744275373\n",
      "validation accuracy: 0.7170702894270525\n",
      "test accuracy 0.7183456817427845\n",
      "\n",
      "Training accuracy: 0.6825232678386763\n",
      "validation accuracy: 0.6668635558180744\n",
      "test accuracy 0.6532124295034833\n",
      "\n",
      "best regularization coffecient 0.2\n"
     ]
    },
    {
     "data": {
      "image/png": "[encoded data removed]",
      "text/plain": [
       "<matplotlib.figure.Figure at 0x19cf9f28f28>"
      ]
     },
     "metadata": {},
     "output_type": "display_data"
    }
   ],
   "source": [
    "C = [500,100,50,20,10,5,2,1,.1,0.01,0.001]\n",
    "L=[]\n",
    "A=[]\n",
    "val=0\n",
    "for c in C:\n",
    "    L.append(1/c)\n",
    "    clf = LogisticRegression(penalty='l2', C=c, solver='newton-cg')\n",
    "    clf.fit(train_1,y_train_1)\n",
    "    print('Training accuracy:',clf.score(train_1, y_train_1) )\n",
    "    preds = clf.predict(val_1)\n",
    "    acc=accuracy_score(preds,y_val_1)\n",
    "    if acc>val:\n",
    "        best_c=c\n",
    "        Valid_A=acc\n",
    "    val=acc\n",
    "    if(c==best_c):\n",
    "        Train_A=clf.score(train_1, y_train_1)\n",
    "    print('validation accuracy:', accuracy_score(preds,y_val_1))\n",
    "    A.append(accuracy_score(preds,y_val_1))\n",
    "    pred_test = clf.predict(test)\n",
    "    print(\"test accuracy\",accuracy_score(pred_test,y_test))\n",
    "    if c==best_c:\n",
    "        test_accuracy_A=accuracy_score(pred_test,y_test)\n",
    "    print('')\n",
    "print(\"best regularization coffecient\",1/best_c)   \n",
    "plt.plot(L,A)\n",
    "plt.xlabel('regularization coeffcient')\n",
    "plt.ylabel('validation accuracy')\n",
    "plt.show()"
   ]
  },
  {
   "cell_type": "markdown",
   "metadata": {
    "colab_type": "text",
    "id": "c0UEYv92KnvQ"
   },
   "source": [
    "### Task 3 (Model $\\mathcal{B}$) (5 points)\n",
    "Train a logistic regression model with $L_2$ regularization on `train_2.csv` after applying the necessary preprocessing steps of Task 1. Use the validation set `valid_2.csv` to choose the best regularization coefficient $\\lambda$. Plot a curve with regularization coefficient in the X axis and the validation accuracy on the Y axis."
   ]
  },
  {
   "cell_type": "code",
   "execution_count": 82,
   "metadata": {},
   "outputs": [
    {
     "name": "stdout",
     "output_type": "stream",
     "text": [
      "Training accuracy: 0.9025713693232875\n",
      "Validation Accuracy: 0.9025435443737905\n",
      "test accuracy 0.9013601680858122\n",
      "\n",
      "Training accuracy: 0.9025713693232875\n",
      "Validation Accuracy: 0.9025435443737905\n",
      "test accuracy 0.9013601680858122\n",
      "\n",
      "Training accuracy: 0.9027096149858298\n",
      "Validation Accuracy: 0.9025435443737905\n",
      "test accuracy 0.9014707508570164\n",
      "\n",
      "Training accuracy: 0.9026750535701943\n",
      "Validation Accuracy: 0.9025435443737905\n",
      "test accuracy 0.9013601680858122\n",
      "\n",
      "Training accuracy: 0.902605930738923\n",
      "Validation Accuracy: 0.9026817804810616\n",
      "test accuracy 0.9010284197721995\n",
      "\n",
      "Training accuracy: 0.902605930738923\n",
      "Validation Accuracy: 0.9024053082665192\n",
      "test accuracy 0.9009178370009953\n",
      "\n",
      "Training accuracy: 0.9023985622451096\n",
      "Validation Accuracy: 0.9026817804810616\n",
      "test accuracy 0.900807254229791\n",
      "\n",
      "Training accuracy: 0.9022257551669316\n",
      "Validation Accuracy: 0.9029582526956041\n",
      "test accuracy 0.901249585314608\n",
      "\n",
      "Training accuracy: 0.9019147024262114\n",
      "Validation Accuracy: 0.9029582526956041\n",
      "test accuracy 0.9018024991706293\n",
      "\n",
      "Training accuracy: 0.8970761042372296\n",
      "Validation Accuracy: 0.8992258777992812\n",
      "test accuracy 0.8988167643481145\n",
      "\n",
      "Training accuracy: 0.8914425934886293\n",
      "Validation Accuracy: 0.8914846557920929\n",
      "test accuracy 0.8916288842198385\n",
      "\n",
      "Training accuracy: 0.8830096080735467\n",
      "Validation Accuracy: 0.8830522532485485\n",
      "test accuracy 0.8830034280659074\n",
      "\n",
      "2\n",
      "best regularization coeffcient 0.5\n"
     ]
    },
    {
     "data": {
      "image/png": "[encoded data removed]",
      "text/plain": [
       "<matplotlib.figure.Figure at 0x19cf9f28ba8>"
      ]
     },
     "metadata": {},
     "output_type": "display_data"
    }
   ],
   "source": [
    "C = [5000,1000,100,50,20,10,5,2,1,.1,0.01,0.001]\n",
    "L=[]\n",
    "A=[]\n",
    "val=0\n",
    "for c in C:\n",
    "    L.append(1/c)\n",
    "    clf = LogisticRegression(penalty='l2', C=c, solver='newton-cg')\n",
    "    clf.fit(train_2,y_train_2)\n",
    "    preds = clf.predict(val_2)\n",
    "    acc=accuracy_score(preds,y_val_2)\n",
    "    if acc>val:\n",
    "        best_c=c\n",
    "        Valid_B=acc\n",
    "    val=acc\n",
    "    print('Training accuracy:',clf.score(train_2, y_train_2))\n",
    "    if(c==best_c):\n",
    "        Train_B=clf.score(train_2, y_train_2)\n",
    "    print('Validation Accuracy:', accuracy_score(preds,y_val_2))\n",
    "    A.append(accuracy_score(preds,y_val_2))\n",
    "    pred_test = clf.predict(test)\n",
    "    print(\"test accuracy\",accuracy_score(pred_test,y_test))\n",
    "    if c ==best_c:\n",
    "        pred_test = clf.predict(test)\n",
    "        test_accuracy_B=accuracy_score(pred_test,y_test)\n",
    "    print('')\n",
    "print(best_c)\n",
    "print(\"best regularization coeffcient\",1/best_c)\n",
    "plt.xlabel('regularization coeffcient')\n",
    "plt.ylabel('validation accuracy')\n",
    "plt.plot(L,A)\n",
    "plt.show()"
   ]
  },
  {
   "cell_type": "markdown",
   "metadata": {
    "colab_type": "text",
    "id": "8KzsVhHPLd3P"
   },
   "source": [
    "### Task 4 (Model $\\mathcal{C}$) (10 points)\n",
    "\n",
    "As you have seen in class, due to the specific (and smart) choice of the loss function, a logistic regression classifier happens to predict the posterioir probability $p(y|\\mathbf{x})$ for any given sample. It then classifies the samples with $p(y|\\mathbf{x}) > 0.5$ as belonging to class $1$ and the rest as belonging to class $0$. Instead, for a fixed threshold of $0.5$, let us consider a dynamic threshold of $\\theta$ which can be chosen after a model has been trained.\n",
    "\n",
    "$$\n",
    "\\ y=\n",
    "\\begin{cases}\n",
    "1 \\text{ if } p(y|\\mathbf{x}) \\geq \\theta \\\\\n",
    "\\\\\n",
    "0 \\text{ if } p(y|\\mathbf{x}) < \\theta \\\\\n",
    "\\end{cases}\n",
    "$$\n",
    "\n",
    "for $0 \\leq \\theta \\leq 1$.\n",
    "\n",
    "Train a logistic regression model with $L_2$ regularization on `train_2.csv` after applying the necessary preprocessing steps of Task 1. Use the validation set `valid_2.csv` to choose the best combination of regularization coefficient $\\lambda$ and the threshold $\\theta$. The best coefficients has to be selected by you after trying out at least five, non-consecutive values. Visualize all these runs.\n",
    "\n",
    "**Hint**: Look at the documentation of Logistic Regression in sci-kit learn to come up with a plan to implement this."
   ]
  },
  {
   "cell_type": "code",
   "execution_count": 87,
   "metadata": {
    "colab": {},
    "colab_type": "code",
    "id": "zJRVTjjrSTRm"
   },
   "outputs": [
    {
     "data": {
      "image/png": "[encoded data removed]",
      "text/plain": [
       "<matplotlib.figure.Figure at 0x19cf952a668>"
      ]
     },
     "metadata": {},
     "output_type": "display_data"
    },
    {
     "data": {
      "image/png": "[encoded data removed]",
      "text/plain": [
       "<matplotlib.figure.Figure at 0x19cf9ad55c0>"
      ]
     },
     "metadata": {},
     "output_type": "display_data"
    },
    {
     "data": {
      "image/png": "[encoded data removed]",
      "text/plain": [
       "<matplotlib.figure.Figure at 0x19cfa0bf3c8>"
      ]
     },
     "metadata": {},
     "output_type": "display_data"
    },
    {
     "data": {
      "image/png": "[encoded data removed]",
      "text/plain": [
       "<matplotlib.figure.Figure at 0x19cfa16acc0>"
      ]
     },
     "metadata": {},
     "output_type": "display_data"
    },
    {
     "data": {
      "image/png": "[encoded data removed]",
      "text/plain": [
       "<matplotlib.figure.Figure at 0x19cf9fdf630>"
      ]
     },
     "metadata": {},
     "output_type": "display_data"
    },
    {
     "data": {
      "image/png": "[encoded data removed]",
      "text/plain": [
       "<matplotlib.figure.Figure at 0x19cf93772e8>"
      ]
     },
     "metadata": {},
     "output_type": "display_data"
    },
    {
     "data": {
      "image/png": "[encoded data removed]",
      "text/plain": [
       "<matplotlib.figure.Figure at 0x19cfa127e48>"
      ]
     },
     "metadata": {},
     "output_type": "display_data"
    },
    {
     "data": {
      "image/png": "[encoded data removed]",
      "text/plain": [
       "<matplotlib.figure.Figure at 0x19cf92ec0b8>"
      ]
     },
     "metadata": {},
     "output_type": "display_data"
    },
    {
     "data": {
      "image/png": "[encoded data removed]",
      "text/plain": [
       "<matplotlib.figure.Figure at 0x19cfa127b38>"
      ]
     },
     "metadata": {},
     "output_type": "display_data"
    },
    {
     "name": "stdout",
     "output_type": "stream",
     "text": [
      "0.45\n",
      "0.05\n"
     ]
    }
   ],
   "source": [
    "C = [100,50,20,10,5,2,1,.1,0.05,]\n",
    "L=[]\n",
    "A=[]\n",
    "T=[]\n",
    "V=[]\n",
    "value=0\n",
    "threshold_list = [0.1,0.20,0.25,0.30,0.45,0.55,0.6,0.8]\n",
    "for c in C:\n",
    "    #L.append(1/c)\n",
    "    clf = LogisticRegression(penalty='l2', C=c, solver='newton-cg')\n",
    "    clf.fit(train_2,y_train_2)\n",
    "    \n",
    "    for i in threshold_list:\n",
    "        T.append(i)\n",
    "        predics = np.where(clf.predict_proba(val_2)[:,1] > i, 1, 0)\n",
    "        acc=accuracy_score(predics,y_val_2)\n",
    "        V.append(acc)\n",
    "        if acc>value:\n",
    "            best_t=i\n",
    "            best_c=c\n",
    "            Valid_C=acc\n",
    "        value=acc\n",
    "        if(i==best_t and c==best_c):\n",
    "            Train_C=clf.score(train_2, y_train_2)\n",
    "            pred_test = clf.predict(test)\n",
    "            test_accuracy_C=accuracy_score(pred_test,y_test)\n",
    "    plt.plot(T,V)\n",
    "    plt.xlabel('threshold')\n",
    "    plt.ylabel('validation accuracy')\n",
    "    plt.show()\n",
    "    V=[]\n",
    "    T=[]\n",
    "\n",
    "                   \n",
    "print(best_t)\n",
    "print(best_c)"
   ]
  },
  {
   "cell_type": "code",
   "execution_count": 90,
   "metadata": {},
   "outputs": [
    {
     "name": "stdout",
     "output_type": "stream",
     "text": [
      "best threshold value possible is 0.45\n",
      "best lambda value possible is 20.0\n"
     ]
    }
   ],
   "source": [
    "print(\"best threshold value possible is\",best_t)\n",
    "print(\"best lambda value possible is\",1/best_c)"
   ]
  },
  {
   "cell_type": "markdown",
   "metadata": {
    "colab_type": "text",
    "id": "cTa2tMCPQmCV"
   },
   "source": [
    "### Task 5 (Report and Conclusion) (10 points)\n",
    "\n",
    "1.  Give a detailed report on the performance (that is, accuracy) of Models $\\mathcal{A}$, $\\mathcal{B}$ and $\\mathcal{C}$ on the respective training sets, the validation sets and finally the test. Explain any intuition you might have on what might be happening in each of the cases. Please avoid writing unnecessary details which are not pertinent.\n",
    "2.  Do you think accuracy, the metric which you have used to find the best hyperparameter in all the above tasks, a good metric in this scenario? Explain your choice.\n",
    "\n"
   ]
  },
  {
   "cell_type": "code",
   "execution_count": 91,
   "metadata": {},
   "outputs": [
    {
     "data": {
      "text/html": [
       "<div>\n",
       "<style scoped>\n",
       "    .dataframe tbody tr th:only-of-type {\n",
       "        vertical-align: middle;\n",
       "    }\n",
       "\n",
       "    .dataframe tbody tr th {\n",
       "        vertical-align: top;\n",
       "    }\n",
       "\n",
       "    .dataframe thead th {\n",
       "        text-align: right;\n",
       "    }\n",
       "</style>\n",
       "<table border=\"1\" class=\"dataframe\">\n",
       "  <thead>\n",
       "    <tr style=\"text-align: right;\">\n",
       "      <th></th>\n",
       "      <th>test accuracy</th>\n",
       "      <th>training accuracy</th>\n",
       "      <th>validation accuracy</th>\n",
       "    </tr>\n",
       "  </thead>\n",
       "  <tbody>\n",
       "    <tr>\n",
       "      <th>A</th>\n",
       "      <td>0.760478</td>\n",
       "      <td>0.831142</td>\n",
       "      <td>0.819846</td>\n",
       "    </tr>\n",
       "    <tr>\n",
       "      <th>B</th>\n",
       "      <td>0.901250</td>\n",
       "      <td>0.902226</td>\n",
       "      <td>0.902958</td>\n",
       "    </tr>\n",
       "    <tr>\n",
       "      <th>C</th>\n",
       "      <td>0.895499</td>\n",
       "      <td>0.894760</td>\n",
       "      <td>0.898535</td>\n",
       "    </tr>\n",
       "  </tbody>\n",
       "</table>\n",
       "</div>"
      ],
      "text/plain": [
       "   test accuracy  training accuracy  validation accuracy\n",
       "A       0.760478           0.831142             0.819846\n",
       "B       0.901250           0.902226             0.902958\n",
       "C       0.895499           0.894760             0.898535"
      ]
     },
     "execution_count": 91,
     "metadata": {},
     "output_type": "execute_result"
    }
   ],
   "source": [
    "df=pd.DataFrame( {'training accuracy': [Train_A,Train_B,Train_C], 'validation accuracy': [Valid_A,Valid_B,Valid_C],'test accuracy':[test_accuracy_A,test_accuracy_B,test_accuracy_C]},index=['A','B','C'])\n",
    "df"
   ]
  },
  {
   "cell_type": "markdown",
   "metadata": {},
   "source": [
    "The training ,validation and test accuracy's caluclated for Model A,Model B ,Model C are has above\n",
    "\n",
    "Model A uses train_1 data set which has more data points of y labelled with 'No'.Data with more customer's who have subscribed  so Model A predictions are inclined towards the 'No' compared to the other Models (Model B and Model C).It might be the reason for Model A having less validation and test accuracy compared to Model B and Model C. test accuracy is a lot less than training accuracy due the use of different set of the data than the data the model is trained with.\n",
    "Model B used train_2 data set which as aproximately equal distributions of y label's of Yes and No.\n",
    "Model C has good accuracy compared to Model A due to the variation of the threshold which gives better scope of prediction.\n",
    "\n",
    "According to my intution accuracy might not be the best metric to find the best hyperparameter's because in logistic regression there will be only two values of predicted outpot(0 and 1),So the accuracy possible for single data point can either be a zero (0%) or 100%.so there might be any other metrics which help's to find the best hyperparameter's"
   ]
  },
  {
   "cell_type": "markdown",
   "metadata": {
    "colab_type": "text",
    "id": "3b62zDpk-O8v"
   },
   "source": [
    "## Problem 2 (50 points)\n",
    "\n",
    "Consider a regression problem in which the input variable $x$ has only one feature and the target variable $y$ is generated from the input variable $x$ by a polynomial $f(x)$. The function $f$ is such that $$f(x) = \\sum_{i=0}^d w_ix^i$$ Please note that a given polynomial function can be completely described by the vector of coefficients $\\mathbf{w}$.\n",
    "\n",
    "### Task 1 (5 points)\n",
    "\n",
    "Write a function in python which can take the degree of polynomial function as input. The code to generate vector coefficeints $\\mathbf{w}$ using this input is already provided. Plot the resulting function for $x \\in (-low, high)$. The function should be plot "
   ]
  },
  {
   "cell_type": "code",
   "execution_count": 1063,
   "metadata": {},
   "outputs": [],
   "source": [
    "from scipy.special import legendre\n",
    "import matplotlib.pyplot as plt \n",
    "from sklearn.metrics import mean_squared_error\n",
    "import random"
   ]
  },
  {
   "cell_type": "code",
   "execution_count": 964,
   "metadata": {
    "colab": {},
    "colab_type": "code",
    "id": "ivzCo28P_SFW"
   },
   "outputs": [
    {
     "data": {
      "image/png": "[encoded data removed]",
      "text/plain": [
       "<matplotlib.figure.Figure at 0x25bcf8d7518>"
      ]
     },
     "metadata": {},
     "output_type": "display_data"
    },
    {
     "data": {
      "image/png": "[encoded data removed]",
      "text/plain": [
       "<matplotlib.figure.Figure at 0x25bcf8d7a90>"
      ]
     },
     "metadata": {},
     "output_type": "display_data"
    },
    {
     "data": {
      "image/png": "[encoded data removed]",
      "text/plain": [
       "<matplotlib.figure.Figure at 0x25bcf4cfa90>"
      ]
     },
     "metadata": {},
     "output_type": "display_data"
    }
   ],
   "source": [
    "import numpy as np\n",
    "from scipy.special import legendre\n",
    "\n",
    "def get_coefficients(degree):\n",
    "    \"\"\"\n",
    "    The coefficients returned are in the order w_0, w_1, ... , w_{degree}\n",
    "    \"\"\"\n",
    "    return legendre(degree).coefficients[::-1]\n",
    "\n",
    "def visualize_function(degree, low, high):\n",
    "    w = get_coefficients(degree)\n",
    "    y=0\n",
    "    x= np.linspace(low, high, 50, endpoint=True)\n",
    "    for i in range(degree+1):\n",
    "        y=y+(x**i)*w[i]\n",
    "    plt.plot(x,y)\n",
    "    plt.show()\n",
    "    pass\n",
    "\n",
    "## TEST CASES (The following lines should plot a function)\n",
    "visualize_function(3, -1, 1)\n",
    "visualize_function(4, -1, 1)\n",
    "visualize_function(6, -1, 1)"
   ]
  },
  {
   "cell_type": "markdown",
   "metadata": {
    "colab_type": "text",
    "id": "z8Mm1YGNBH5u"
   },
   "source": [
    "### Task 2 (5 points)\n",
    "\n",
    "Write a function in python that randomly generates a dataset (training data + test data). The function should take the degree of target polynomial as input along with the number of points that should be generated for both the training and the test sets. The polynomial will be represented by the vector of coefficients. The code to calculate these coefficients has been provided. The function should also add random normal noise to the target -- i.e. the noise should be drawn from a normal distribution with mean $\\mu=0$ and standard deviation = $\\sigma^2$. Thus: \n",
    "$$y=\\sum_{i=0}^d w_ix^i + \\mathcal{N}(0, \\sigma^2)$$\n",
    "\n"
   ]
  },
  {
   "cell_type": "code",
   "execution_count": 965,
   "metadata": {
    "colab": {},
    "colab_type": "code",
    "id": "ZZ1zxLPvCyDt"
   },
   "outputs": [],
   "source": [
    "def generate_dataset(degree, n_train, n_test, sigma):\n",
    "    \"\"\"\n",
    "    - n_train - Number of training samples\n",
    "    - n_test - Number of test samples\n",
    "    - X_train is an array of size (n_train $\\times$ 1)\n",
    "    - y_train is an array of size (n_train $\\times$ 1)\n",
    "    - X_test is an array of size (n_test $\\times$ 1)\n",
    "    - y_test is an array of size (n_test $\\times$ 1)\n",
    "    \"\"\"\n",
    "    w = get_coefficients(degree)\n",
    "    #X_train = np.linspace(-1,1,n_train)\n",
    "    X_train = np.array(list(stats.uniform(-1,1).rvs(n_train)))\n",
    "    #X_train=[]\n",
    "    #for i in range(n_train):\n",
    "   #     X_train.append(random.uniform(-1,1))\n",
    "    y_train=[]\n",
    "    for i in range(n_train):\n",
    "        y_p=0\n",
    "        for j in range(degree+1):\n",
    "            y_p=y_p + (X_train[i]**j) * w[j]+np.random.normal(0,sigma)\n",
    "        y_train.append(y_p)\n",
    "    w = get_coefficients(degree)\n",
    "    #X_test=np.linspace(-1,1,n_test)\n",
    "    X_test = np.array(list(stats.uniform(-1,1).rvs(n_test)))\n",
    "    #X_test=[]\n",
    "    #for i in range(n_test):\n",
    "    #   X_test.append(random.uniform(-1,1))\n",
    "    y_test=[]\n",
    "    for i in range(n_test):\n",
    "        y_p=0\n",
    "        for j in range(degree+1):\n",
    "            y_p=y_p + (X_test[i]**j) * w[j]+np.random.normal(0,sigma)\n",
    "        y_test.append(y_p)\n",
    "    return X_train, y_train, X_test, y_test"
   ]
  },
  {
   "cell_type": "code",
   "execution_count": 966,
   "metadata": {},
   "outputs": [
    {
     "name": "stdout",
     "output_type": "stream",
     "text": [
      "[-1.         -0.77777778 -0.55555556 -0.33333333 -0.11111111  0.11111111\n",
      "  0.33333333  0.55555556  0.77777778  1.        ] <class 'numpy.ndarray'> (10,)\n"
     ]
    },
    {
     "data": {
      "text/plain": [
       "(10,)"
      ]
     },
     "execution_count": 966,
     "metadata": {},
     "output_type": "execute_result"
    }
   ],
   "source": [
    "X_train = np.linspace(-1,1,10)\n",
    "print(X_train, type(X_train), X_train.shape)\n",
    "from scipy import stats\n",
    "np.array(list(stats.uniform(-1,1).rvs(10))).shape"
   ]
  },
  {
   "cell_type": "markdown",
   "metadata": {
    "colab_type": "text",
    "id": "et9gTUzy_Sn9"
   },
   "source": [
    "### Task 3 (20 points)\n",
    "\n",
    "1.   Use the function written in Task 2 to generate a dataset of degree $10$, with $20$ samples each in the training and test sets. The standard deviation of the noise should be $0.2$.\n",
    "2.   Plot the generated points of the train set over the function. Make use the function you wrote in Task 1 to do so. The resultant plot should not only contain the function in blue color but also the generated points in the train set in red color.\n",
    "3.   Fit two linear regressions models: $\\mathcal{A}$ and $\\mathcal{B}$ on the given training data. Model $\\mathcal{A}$ should be quadratic and Model $\\mathcal{B}$ should be of degree $10$. How would you create such models?\n",
    "4. Calculate the training error and testing error on both these models and report them nicely in a table.\n",
    "5. Explain the results:\n",
    " - Are the results as expected or surprising? Explain your stance.\n",
    " - Give a detailed explanation of why this happens.\n",
    " \n",
    " **Hint**: You are free (in fact encouraged) to design new experiments under the same paradigm to understand what is happening. You can buttress your explanation with any plots which you might generate from such new experiments.\n",
    "\n",
    " \n",
    "Note: _There is no preference over the size of the answer but please note that you shouldn't write anything that is not pertinent. While being terse, your answer should clearly convey the intuition. Also, use logical number code/text cells---i.e. every subquestion in a given task which can be considered a logical unit should be present in one cell. Do not make one cell unnecessarily long by putting multiple answers in it or split a given answer over multiple cells. Use your best judgement."
   ]
  },
  {
   "cell_type": "code",
   "execution_count": 967,
   "metadata": {
    "scrolled": false
   },
   "outputs": [
    {
     "data": {
      "image/png": "[encoded data removed]",
      "text/plain": [
       "<matplotlib.figure.Figure at 0x25bd0f22278>"
      ]
     },
     "metadata": {},
     "output_type": "display_data"
    }
   ],
   "source": [
    "#1\n",
    "G=generate_dataset(10,20,20,0.2)\n",
    "X_train=G[0]\n",
    "y_train=G[1]\n",
    "X_test=G[2]\n",
    "y_test=G[3]\n",
    "plt.plot(X_train,y_train,'ro')\n",
    "visualize_function(10, -1, 1)"
   ]
  },
  {
   "cell_type": "markdown",
   "metadata": {},
   "source": [
    "Task 3 , question 3"
   ]
  },
  {
   "cell_type": "code",
   "execution_count": 538,
   "metadata": {},
   "outputs": [
    {
     "data": {
      "text/plain": [
       "LinearRegression(copy_X=True, fit_intercept=True, n_jobs=1, normalize=False)"
      ]
     },
     "execution_count": 538,
     "metadata": {},
     "output_type": "execute_result"
    }
   ],
   "source": [
    "# Model A for Quadratic Equation\n",
    "\n",
    "from sklearn.preprocessing import PolynomialFeatures\n",
    "from sklearn import linear_model\n",
    "poly_reg = PolynomialFeatures(degree=2)\n",
    "#print(X_train)\n",
    "X_test_2=X_test.reshape(-1, 1)\n",
    "X_poly_2 = poly_reg.fit_transform(X_train.reshape(-1, 1))\n",
    "pol_mod =linear_model.LinearRegression()\n",
    "pol_mod.fit(X_poly_2, y_train)"
   ]
  },
  {
   "cell_type": "code",
   "execution_count": 539,
   "metadata": {},
   "outputs": [
    {
     "name": "stdout",
     "output_type": "stream",
     "text": [
      "rmse_train_2 0.5781037118188724\n",
      "rmse_test_2 0.6972422142389275\n"
     ]
    }
   ],
   "source": [
    "# predicting on training data-set\n",
    "\n",
    "y_train_predicted = pol_mod.predict(X_poly_2)\n",
    "#print(y_train_predicted)\n",
    "\n",
    "# predicting on test data-set\n",
    "y_test_predict = pol_mod.predict(poly_reg.fit_transform(X_test_2))\n",
    "\n",
    "# evaluating the model on training dataset\n",
    "rmse_train_2 = np.sqrt(mean_squared_error(y_train, y_train_predicted))\n",
    "\n",
    "print(\"rmse_train_2\",rmse_train_2)\n",
    "rmse_test_2 = np.sqrt(mean_squared_error(y_test, y_test_predict))\n",
    "print(\"rmse_test_2\",rmse_test_2)"
   ]
  },
  {
   "cell_type": "code",
   "execution_count": 540,
   "metadata": {},
   "outputs": [
    {
     "data": {
      "text/plain": [
       "LinearRegression(copy_X=True, fit_intercept=True, n_jobs=1, normalize=False)"
      ]
     },
     "execution_count": 540,
     "metadata": {},
     "output_type": "execute_result"
    }
   ],
   "source": [
    "from sklearn.preprocessing import PolynomialFeatures\n",
    "from sklearn import linear_model\n",
    "poly_reg = PolynomialFeatures(degree=10)\n",
    "#print(X_train)\n",
    "X_test_10=X_test.reshape(-1, 1)\n",
    "X_poly_10 = poly_reg.fit_transform(X_train.reshape(-1, 1))\n",
    "pol_mod =linear_model.LinearRegression()\n",
    "pol_mod.fit(X_poly_10, y_train)"
   ]
  },
  {
   "cell_type": "code",
   "execution_count": 541,
   "metadata": {},
   "outputs": [
    {
     "name": "stdout",
     "output_type": "stream",
     "text": [
      "rmse_train_10 0.36807912154471295\n",
      "rmse_test_10 3.498481266209721\n"
     ]
    }
   ],
   "source": [
    "# predicting on training data-set\n",
    "y_train_predicted = pol_mod.predict(X_poly_10)\n",
    "#print(y_train_predicted)\n",
    "\n",
    "# predicting on test data-set\n",
    "y_test_predict = pol_mod.predict(poly_reg.fit_transform(X_test_10))\n",
    "\n",
    "# evaluating the model on training dataset\n",
    "rmse_train_10 = np.sqrt(mean_squared_error(y_train, y_train_predicted))\n",
    "\n",
    "print(\"rmse_train_10\",rmse_train_10)\n",
    "rmse_test_10 = np.sqrt(mean_squared_error(y_test, y_test_predict))\n",
    "print(\"rmse_test_10\",rmse_test_10)"
   ]
  },
  {
   "cell_type": "code",
   "execution_count": 542,
   "metadata": {},
   "outputs": [
    {
     "data": {
      "text/html": [
       "<div>\n",
       "<style scoped>\n",
       "    .dataframe tbody tr th:only-of-type {\n",
       "        vertical-align: middle;\n",
       "    }\n",
       "\n",
       "    .dataframe tbody tr th {\n",
       "        vertical-align: top;\n",
       "    }\n",
       "\n",
       "    .dataframe thead th {\n",
       "        text-align: right;\n",
       "    }\n",
       "</style>\n",
       "<table border=\"1\" class=\"dataframe\">\n",
       "  <thead>\n",
       "    <tr style=\"text-align: right;\">\n",
       "      <th></th>\n",
       "      <th>test</th>\n",
       "      <th>train</th>\n",
       "    </tr>\n",
       "  </thead>\n",
       "  <tbody>\n",
       "    <tr>\n",
       "      <th>2</th>\n",
       "      <td>0.697242</td>\n",
       "      <td>0.578104</td>\n",
       "    </tr>\n",
       "    <tr>\n",
       "      <th>10</th>\n",
       "      <td>3.498481</td>\n",
       "      <td>0.368079</td>\n",
       "    </tr>\n",
       "  </tbody>\n",
       "</table>\n",
       "</div>"
      ],
      "text/plain": [
       "        test     train\n",
       "2   0.697242  0.578104\n",
       "10  3.498481  0.368079"
      ]
     },
     "execution_count": 542,
     "metadata": {},
     "output_type": "execute_result"
    }
   ],
   "source": [
    "df=pd.DataFrame( {'train': [rmse_train_2, rmse_train_10], 'test': [rmse_test_2, rmse_test_10]},index=['2','10'])\n",
    "df"
   ]
  },
  {
   "cell_type": "markdown",
   "metadata": {},
   "source": [
    "The results are as expected because the higher order polynomial equations tend to over fit the data compared to the lower order equations. The higher order equations tend to fit the noise which is not really the part of the data so when we fit new set of data (test data) we get more mean square error has the model is fit with considerable amount of noise also "
   ]
  },
  {
   "cell_type": "markdown",
   "metadata": {
    "colab_type": "text",
    "id": "APUqEUWUGmXo"
   },
   "source": [
    "### Task 4 (20 points)\n",
    "\n",
    "1.  Use the function written in Task 2 to generate a dataset of degree 45, with 20 samples each in the training and test sets. There should be no noise in the samples.\n",
    "2.  Repeat steps 2 to 4 from Task 3 for this dataset.\n",
    "3.  This target doesn't have noise like the previous one. Does this make the result surprising? Explain your stance. Also give a detailed explanation of why this happens.\n",
    "\n",
    "**Hint**: You are free (in fact encouraged) to design new experiements under the same paradigm to understand what is happening. You can buttress your explanation with any plots which you might generate from such new experiments."
   ]
  },
  {
   "cell_type": "code",
   "execution_count": 453,
   "metadata": {},
   "outputs": [],
   "source": [
    "G=generate_dataset(45,20,20,0)"
   ]
  },
  {
   "cell_type": "code",
   "execution_count": 454,
   "metadata": {},
   "outputs": [
    {
     "data": {
      "image/png": "[encoded data removed]",
      "text/plain": [
       "<matplotlib.figure.Figure at 0x25bcfbdda90>"
      ]
     },
     "metadata": {},
     "output_type": "display_data"
    }
   ],
   "source": [
    "X_train=G[0]\n",
    "y_train=G[1]\n",
    "X_test=G[2]\n",
    "y_test=G[3]\n",
    "plt.plot(X_train,y_train,'ro')\n",
    "visualize_function(45,-1, 1)"
   ]
  },
  {
   "cell_type": "code",
   "execution_count": 435,
   "metadata": {},
   "outputs": [
    {
     "data": {
      "text/plain": [
       "LinearRegression(copy_X=True, fit_intercept=True, n_jobs=1, normalize=False)"
      ]
     },
     "execution_count": 435,
     "metadata": {},
     "output_type": "execute_result"
    }
   ],
   "source": [
    "from sklearn.preprocessing import PolynomialFeatures\n",
    "from sklearn import linear_model\n",
    "poly_reg = PolynomialFeatures(degree=45)\n",
    "#print(X_train)\n",
    "X_test_45=X_test.reshape(-1, 1)\n",
    "X_poly_45 = poly_reg.fit_transform(X_train.reshape(-1, 1))\n",
    "pol_mod =linear_model.LinearRegression()\n",
    "pol_mod.fit(X_poly_45, y_train)"
   ]
  },
  {
   "cell_type": "code",
   "execution_count": 436,
   "metadata": {},
   "outputs": [
    {
     "name": "stdout",
     "output_type": "stream",
     "text": [
      "rmse_train_45 8.950687623048063e-07\n",
      "rmse_test_45 0.7534837262454407\n"
     ]
    }
   ],
   "source": [
    "# predicting on training data-set\n",
    "y_train_predicted = pol_mod.predict(X_poly_45)\n",
    "#print(y_train_predicted)\n",
    "\n",
    "# predicting on test data-set\n",
    "y_test_predict = pol_mod.predict(poly_reg.fit_transform(X_test_45))\n",
    "\n",
    "# evaluating the model on training dataset\n",
    "rmse_train = np.sqrt(mean_squared_error(y_train, y_train_predicted))\n",
    "\n",
    "print(\"rmse_train_45\",rmse_train)\n",
    "rmse_test_45 = np.sqrt(mean_squared_error(y_test, y_test_predict))\n",
    "print(\"rmse_test_45\",rmse_test_2)"
   ]
  },
  {
   "cell_type": "markdown",
   "metadata": {},
   "source": [
    "This target does not have the noise unlike the previous targets obtained from the data with noise. The root mean square error is neglible and close to zero. The result is not suprsing because the data is generated from the polynomal equation of same order itself so the polynomial equation is able to properly fit the data.\n",
    "There ia a considerable but very less mean square with the test data is different from the train data. but the mean square error is less because there is no noise present and the polynomial equation is of the same order from which data is generated."
   ]
  },
  {
   "cell_type": "code",
   "execution_count": null,
   "metadata": {},
   "outputs": [],
   "source": []
  }
 ],
 "metadata": {
  "colab": {
   "collapsed_sections": [],
   "name": "Assignment2.ipynb",
   "provenance": []
  },
  "kernel_info": {
   "name": "python3"
  },
  "kernelspec": {
   "display_name": "Python 3",
   "language": "python",
   "name": "python3"
  },
  "language_info": {
   "codemirror_mode": {
    "name": "ipython",
    "version": 3
   },
   "file_extension": ".py",
   "mimetype": "text/x-python",
   "name": "python",
   "nbconvert_exporter": "python",
   "pygments_lexer": "ipython3",
   "version": "3.6.4"
  },
  "nteract": {
   "version": "0.15.0"
  }
 },
 "nbformat": 4,
 "nbformat_minor": 1
}
